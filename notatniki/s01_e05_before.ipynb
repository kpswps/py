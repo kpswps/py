{
 "cells": [
  {
   "cell_type": "code",
   "execution_count": 1,
   "metadata": {
    "collapsed": true
   },
   "outputs": [],
   "source": [
    "import pandas as pd\n",
    "import matplotlib.pyplot as plt\n",
    "import seaborn as sns\n",
    "import numpy as np\n",
    "from scipy import stats\n",
    "%matplotlib inline"
   ]
  },
  {
   "cell_type": "code",
   "execution_count": 2,
   "metadata": {
    "collapsed": true
   },
   "outputs": [],
   "source": [
    "seed = np.random.RandomState(10)\n",
    "seed2 = np.random.RandomState(11)\n",
    "age = seed.normal(40,5,25).round(0)\n",
    "sex = seed.binomial(1,0.5,25)\n",
    "hap = (seed.beta(20,5,25)*11).round(0)\n",
    "salary = (seed.gamma(4,50,25)*10).round(-2)\n",
    "prog = seed.binomial(1,0.5,25)\n",
    "health = seed2.normal(120,45,25).round(-1)"
   ]
  },
  {
   "cell_type": "code",
   "execution_count": 3,
   "metadata": {
    "collapsed": true
   },
   "outputs": [],
   "source": [
    "dataDict = {\n",
    "    'Wiek': age,\n",
    "    'Zarobki': salary,\n",
    "    'Płeć': sex,\n",
    "    'Szczęście': hap,\n",
    "    'Programowanie': prog,\n",
    "    'Zdrowie': health\n",
    "}"
   ]
  },
  {
   "cell_type": "code",
   "execution_count": 4,
   "metadata": {
    "collapsed": true
   },
   "outputs": [],
   "source": [
    "myData = pd.DataFrame(data = dataDict)"
   ]
  }
 ],
 "metadata": {
  "kernelspec": {
   "display_name": "Python 3",
   "language": "python",
   "name": "python3"
  },
  "language_info": {
   "codemirror_mode": {
    "name": "ipython",
    "version": 3
   },
   "file_extension": ".py",
   "mimetype": "text/x-python",
   "name": "python",
   "nbconvert_exporter": "python",
   "pygments_lexer": "ipython3",
   "version": "3.6.1"
  }
 },
 "nbformat": 4,
 "nbformat_minor": 2
}
