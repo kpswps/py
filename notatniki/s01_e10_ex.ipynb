{
 "cells": [
  {
   "cell_type": "markdown",
   "metadata": {},
   "source": [
    "###### 1. Ściągnij i rozpakuj przy pomocy pythona plik stąd: https://github.com/kpswps/py/raw/master/datasets/college-salaries.zip"
   ]
  },
  {
   "cell_type": "markdown",
   "metadata": {},
   "source": [
    "###### 2. Stwórz listę z pełnymi ścieżkami do plików .csv - zapisz do zmiennej csv_files. Użyj list comprehension"
   ]
  },
  {
   "cell_type": "markdown",
   "metadata": {},
   "source": [
    "###### 3. Stwórz przy pomocy dict comprehensions słownik 'dfs' - hasłem niech będzie numer indeksu [0, 1 lub 2], znaczeniem zaś wczytana jedna ramka danych z listy csv_files"
   ]
  },
  {
   "cell_type": "markdown",
   "metadata": {},
   "source": [
    "###### Pracujemy na pierwszej ramce danych: dfs[0]"
   ]
  },
  {
   "cell_type": "markdown",
   "metadata": {},
   "source": [
    "###### 4. Widzimy, że nazwy kolumn są słabe do adresowania - zmień nazwy kolumn na następujące:\n",
    "\n",
    "* Undergraduate Major -> major\n",
    "* Starting Median Salary -> bgn_p50\n",
    "* Mid-Career Median Salary -> mid_p50\n",
    "* Percent change from Starting to Mid-Career Salary -> ch_bgn_mid\n",
    "* Mid-Career 10th Percentile Salary -> mid_p10\n",
    "* Mid-Career 25th Percentile Salary -> mid_p25\n",
    "* Mid-Career 75th Percentile Salary -> mid_p75\n",
    "* Mid-Career 90th Percentile Salary -> mid_p90"
   ]
  },
  {
   "cell_type": "markdown",
   "metadata": {},
   "source": [
    "###### 5. Policz średnią dla każdej kolumny z zarobkami. Co trzeba zrobić, żeby móc wykonać tę operację? Stwórz listę ze średnimi."
   ]
  },
  {
   "cell_type": "markdown",
   "metadata": {},
   "source": [
    "###### 6. Wyświetl podstawowe statystyki opisowe dla całej ramki danych."
   ]
  },
  {
   "cell_type": "markdown",
   "metadata": {},
   "source": [
    "###### 7. Trwale posortuj wartości malejąco według kolumny bgn_p50"
   ]
  },
  {
   "cell_type": "markdown",
   "metadata": {},
   "source": [
    "###### 8. Widzimy, że nasze indeksy się nieco rozleciały - zresetuj je tak, żeby Physician Assistand -> 0, Chem. Engineering -> 1 itd. \n",
    "###### Uwaga: nie chcemy żeby stare numery indeksów zostały dodane do ramki danych."
   ]
  },
  {
   "cell_type": "markdown",
   "metadata": {},
   "source": [
    "###### 9.Stwórz przy pomocy matplotlib wykres rozrzutu (scatterplot) zgodnie z wytycznymi:\n",
    "* oś x: indeksy\n",
    "* wartości osi x: indeksy\n",
    "* opis osi x: 'Major'\n",
    "* oś y: mediana zarobków na początku kariery\n",
    "* wartości osi y: jw\n",
    "* opis osi y: 'US Dollars'\n",
    "* tytuł: 'Starting Median Salary by Major'\n",
    "* kolor obserwacji: zielony\n",
    "* legenda: 'Starting Median Salary'"
   ]
  },
  {
   "cell_type": "markdown",
   "metadata": {},
   "source": [
    "###### 10. Tak jak powyżej, ale zamiast indeksów dodaj nazwy kierunków na osi x. Obróć nazwy pionowo."
   ]
  },
  {
   "cell_type": "markdown",
   "metadata": {},
   "source": [
    "###### 11. Jak wyżej, ale pozamieniaj miejscami zmienne"
   ]
  },
  {
   "cell_type": "markdown",
   "metadata": {},
   "source": [
    "###### 12. Jak wyżej, ale odwróć wykres tak, żeby wartości były posegregowane rosnąco."
   ]
  },
  {
   "cell_type": "markdown",
   "metadata": {},
   "source": [
    "###### 13. Wykres piękny acz mało czytelny. Stwórz wykres podobny jak powyżej, ale zwiększ jego rozmiary tak, żeby nieco zwiększyć jego czytelność. Przesuń legendę w lewy górny róg."
   ]
  },
  {
   "cell_type": "markdown",
   "metadata": {},
   "source": [
    "###### 14. Stwórz wykres, który zestawi medianę zarobków na początku kariery z medianą w połowie kariery"
   ]
  },
  {
   "cell_type": "markdown",
   "metadata": {},
   "source": [
    "###### 15. Stwórz analogiczny wykres, tym razem posegregowany według wysokości zarobków w połowie kariery zawodowej."
   ]
  },
  {
   "cell_type": "markdown",
   "metadata": {},
   "source": [
    "###### 16. Stwórz podobny wykres, który pokaże tym razem zarobki w połowie kariery zawodowej:\n",
    "* pokaż zarobki dla 25, 50 i 75 percentyla\n",
    "* posegreguj według mediany (inaczej 50 percentyla)"
   ]
  },
  {
   "cell_type": "markdown",
   "metadata": {},
   "source": [
    "###### 17. Analogicznie, tym razem z uwzględnieniem 10%, 25%, 50%, 75% oraz 90%."
   ]
  },
  {
   "cell_type": "markdown",
   "metadata": {},
   "source": [
    "###### 18. Zapisz wykres do pliku 'wykres.png' - 300 dpi. Uwaga - zwróć uwagę czy wykres nie jest przycięty!"
   ]
  },
  {
   "cell_type": "code",
   "execution_count": null,
   "metadata": {
    "collapsed": true
   },
   "outputs": [],
   "source": []
  }
 ],
 "metadata": {
  "kernelspec": {
   "display_name": "Python 3",
   "language": "python",
   "name": "python3"
  },
  "language_info": {
   "codemirror_mode": {
    "name": "ipython",
    "version": 3
   },
   "file_extension": ".py",
   "mimetype": "text/x-python",
   "name": "python",
   "nbconvert_exporter": "python",
   "pygments_lexer": "ipython3",
   "version": "3.6.1"
  }
 },
 "nbformat": 4,
 "nbformat_minor": 2
}
