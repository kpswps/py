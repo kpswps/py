{
 "cells": [
  {
   "cell_type": "code",
   "execution_count": 1,
   "metadata": {
    "collapsed": true
   },
   "outputs": [],
   "source": [
    "import numpy as np\n",
    "import time"
   ]
  },
  {
   "cell_type": "code",
   "execution_count": 2,
   "metadata": {
    "collapsed": true
   },
   "outputs": [],
   "source": [
    "#wszyscy losujemy takie same dane\n",
    "seed = np.random.RandomState(100)\n",
    "wzrost_lista = list(seed.normal(loc=1.70,scale=.15,size=100000).round(2))\n",
    "seed2 = np.random.RandomState(100)\n",
    "waga_lista = list(seed2.normal(loc=80,scale=10,size=100000).round(2))"
   ]
  },
  {
   "cell_type": "code",
   "execution_count": 3,
   "metadata": {},
   "outputs": [
    {
     "name": "stdout",
     "output_type": "stream",
     "text": [
      "0.10811599999999988 seconds\n"
     ]
    }
   ],
   "source": [
    "start_time = time.clock()\n",
    "bmi_lista = list()\n",
    "for index, each in enumerate(range(len(wzrost_lista))):\n",
    "    result = waga_lista[index] / wzrost_lista[index]**2\n",
    "    bmi_lista.append(result)\n",
    "print(time.clock() - start_time, \"seconds\")"
   ]
  },
  {
   "cell_type": "code",
   "execution_count": 4,
   "metadata": {
    "collapsed": true
   },
   "outputs": [],
   "source": [
    "#wszyscy losujemy takie same dane\n",
    "seed = np.random.RandomState(100)\n",
    "wzrost_array = seed.normal(loc=1.70,scale=.15,size=100000).round(2)\n",
    "seed2 = np.random.RandomState(100)\n",
    "seed3 = np.random.RandomState(50)\n",
    "waga_array = seed2.normal(loc=80,scale=10,size=100000).round(2) + seed3.normal(loc=9,scale=9,size=100000).round(2)"
   ]
  },
  {
   "cell_type": "code",
   "execution_count": 5,
   "metadata": {},
   "outputs": [
    {
     "name": "stdout",
     "output_type": "stream",
     "text": [
      "0.0019540000000000113 seconds\n"
     ]
    }
   ],
   "source": [
    "start_time = time.clock()\n",
    "bmi_array = waga_array / wzrost_array**2\n",
    "print(time.clock() - start_time, \"seconds\")"
   ]
  },
  {
   "cell_type": "code",
   "execution_count": null,
   "metadata": {
    "collapsed": true
   },
   "outputs": [],
   "source": []
  }
 ],
 "metadata": {
  "kernelspec": {
   "display_name": "Python 3",
   "language": "python",
   "name": "python3"
  },
  "language_info": {
   "codemirror_mode": {
    "name": "ipython",
    "version": 3
   },
   "file_extension": ".py",
   "mimetype": "text/x-python",
   "name": "python",
   "nbconvert_exporter": "python",
   "pygments_lexer": "ipython3",
   "version": "3.6.1"
  }
 },
 "nbformat": 4,
 "nbformat_minor": 2
}
