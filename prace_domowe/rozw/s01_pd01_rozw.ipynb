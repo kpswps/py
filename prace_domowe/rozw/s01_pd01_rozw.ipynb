{
 "cells": [
  {
   "cell_type": "code",
   "execution_count": 1,
   "metadata": {},
   "outputs": [
    {
     "name": "stdout",
     "output_type": "stream",
     "text": [
      "Jak się nazywasz? Kazimierz\n",
      "Ile masz lat? 30\n",
      "Nazywasz się Kazimierz i masz 30 lat\n"
     ]
    }
   ],
   "source": [
    "#najlepszy i najłatwiejszy sposób\n",
    "imie = input('Jak się nazywasz? ')\n",
    "wiek = input('Ile masz lat? ')\n",
    "print('Nazywasz się {} i masz {} lat'.format(imie, wiek))"
   ]
  },
  {
   "cell_type": "code",
   "execution_count": 2,
   "metadata": {},
   "outputs": [
    {
     "name": "stdout",
     "output_type": "stream",
     "text": [
      "Jak się nazywasz? Kazimierz\n",
      "Ile masz lat? 30\n",
      "Nazywasz się Kazimierz i masz 30 lat\n"
     ]
    }
   ],
   "source": [
    "#tak też się da\n",
    "imie = input('Jak się nazywasz? ')\n",
    "wiek = input('Ile masz lat? ')\n",
    "print(\"Nazywasz się\", imie, \"i masz\", wiek, \"lat\", sep = \" \") #sep nie jest tutaj potrzebny"
   ]
  },
  {
   "cell_type": "code",
   "execution_count": 3,
   "metadata": {},
   "outputs": [
    {
     "name": "stdout",
     "output_type": "stream",
     "text": [
      "Jak się nazywasz? Kazimierz\n",
      "Ile masz lat? 30\n",
      "Nazywasz się Kazimierz i masz 30 lat\n"
     ]
    }
   ],
   "source": [
    "#tak też się da\n",
    "imie = input('Jak się nazywasz? ')\n",
    "wiek = input('Ile masz lat? ')\n",
    "print(\"Nazywasz się\", imie, \"i masz\", wiek, \"lat\")"
   ]
  },
  {
   "cell_type": "code",
   "execution_count": 5,
   "metadata": {},
   "outputs": [
    {
     "name": "stdout",
     "output_type": "stream",
     "text": [
      "Jak się nazywasz? Kazimierz\n",
      "Ile masz lat? 30\n",
      "Nazywasz się Kazimierz i masz 30 lat\n"
     ]
    }
   ],
   "source": [
    "#tak też się da, ale to jest już trochę old-school\n",
    "imie = input('Jak się nazywasz? ')\n",
    "wiek = input('Ile masz lat? ')\n",
    "print(\"Nazywasz się %s\" %imie, \"i masz %s lat\" %wiek)"
   ]
  },
  {
   "cell_type": "code",
   "execution_count": null,
   "metadata": {
    "collapsed": true
   },
   "outputs": [],
   "source": []
  }
 ],
 "metadata": {
  "kernelspec": {
   "display_name": "Python 3",
   "language": "python",
   "name": "python3"
  },
  "language_info": {
   "codemirror_mode": {
    "name": "ipython",
    "version": 3
   },
   "file_extension": ".py",
   "mimetype": "text/x-python",
   "name": "python",
   "nbconvert_exporter": "python",
   "pygments_lexer": "ipython3",
   "version": "3.6.1"
  }
 },
 "nbformat": 4,
 "nbformat_minor": 2
}
